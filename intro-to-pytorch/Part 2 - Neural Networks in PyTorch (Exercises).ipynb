{
 "cells": [
  {
   "cell_type": "markdown",
   "metadata": {},
   "source": [
    "# Neural networks with PyTorch\n",
    "\n",
    "Deep learning networks tend to be massive with dozens or hundreds of layers, that's where the term \"deep\" comes from. You can build one of these deep networks using only weight matrices as we did in the previous notebook, but in general it's very cumbersome and difficult to implement. PyTorch has a nice module `nn` that provides a nice way to efficiently build large neural networks."
   ]
  },
  {
   "cell_type": "code",
   "execution_count": 1,
   "metadata": {},
   "outputs": [],
   "source": [
    "# Import necessary packages\n",
    "\n",
    "%matplotlib inline\n",
    "%config InlineBackend.figure_format = 'retina'\n",
    "\n",
    "import numpy as np\n",
    "import torch\n",
    "\n",
    "import helper\n",
    "\n",
    "import matplotlib.pyplot as plt"
   ]
  },
  {
   "cell_type": "markdown",
   "metadata": {},
   "source": [
    "\n",
    "Now we're going to build a larger network that can solve a (formerly) difficult problem, identifying text in an image. Here we'll use the MNIST dataset which consists of greyscale handwritten digits. Each image is 28x28 pixels, you can see a sample below\n",
    "\n",
    "<img src='assets/mnist.png'>\n",
    "\n",
    "Our goal is to build a neural network that can take one of these images and predict the digit in the image.\n",
    "\n",
    "First up, we need to get our dataset. This is provided through the `torchvision` package. The code below will download the MNIST dataset, then create training and test datasets for us. Don't worry too much about the details here, you'll learn more about this later."
   ]
  },
  {
   "cell_type": "code",
   "execution_count": 2,
   "metadata": {},
   "outputs": [],
   "source": [
    "### Run this cell\n",
    "\n",
    "from torchvision import datasets, transforms\n",
    "\n",
    "# Define a transform to normalize the data\n",
    "transform = transforms.Compose([transforms.ToTensor(),\n",
    "                              transforms.Normalize((0.5,), (0.5,)),\n",
    "                              ])\n",
    "\n",
    "# Download and load the training data\n",
    "trainset = datasets.MNIST('~/.pytorch/MNIST_data/', download=True, train=True, transform=transform)\n",
    "trainloader = torch.utils.data.DataLoader(trainset, batch_size=64, shuffle=True)"
   ]
  },
  {
   "cell_type": "markdown",
   "metadata": {},
   "source": [
    "We have the training data loaded into `trainloader` and we make that an iterator with `iter(trainloader)`. Later, we'll use this to loop through the dataset for training, like\n",
    "\n",
    "```python\n",
    "for image, label in trainloader:\n",
    "    ## do things with images and labels\n",
    "```\n",
    "\n",
    "You'll notice I created the `trainloader` with a batch size of 64, and `shuffle=True`. The batch size is the number of images we get in one iteration from the data loader and pass through our network, often called a *batch*. And `shuffle=True` tells it to shuffle the dataset every time we start going through the data loader again. But here I'm just grabbing the first batch so we can check out the data. We can see below that `images` is just a tensor with size `(64, 1, 28, 28)`. So, 64 images per batch, 1 color channel, and 28x28 images."
   ]
  },
  {
   "cell_type": "code",
   "execution_count": 3,
   "metadata": {},
   "outputs": [
    {
     "name": "stdout",
     "output_type": "stream",
     "text": [
      "<class 'torch.Tensor'>\n",
      "torch.Size([64, 1, 28, 28])\n",
      "torch.Size([64])\n"
     ]
    }
   ],
   "source": [
    "dataiter = iter(trainloader)\n",
    "images, labels = dataiter.next()\n",
    "print(type(images))\n",
    "print(images.shape)\n",
    "print(labels.shape)"
   ]
  },
  {
   "cell_type": "markdown",
   "metadata": {},
   "source": [
    "This is what one of the images looks like. "
   ]
  },
  {
   "cell_type": "code",
   "execution_count": 4,
   "metadata": {},
   "outputs": [
    {
     "data": {
      "image/png": "[encoded data removed]",
      "text/plain": [
       "<Figure size 432x288 with 1 Axes>"
      ]
     },
     "metadata": {
      "image/png": {
       "height": 250,
       "width": 253
      }
     },
     "output_type": "display_data"
    }
   ],
   "source": [
    "plt.imshow(images[1].numpy().squeeze(), cmap='Greys_r');"
   ]
  },
  {
   "cell_type": "markdown",
   "metadata": {},
   "source": [
    "First, let's try to build a simple network for this dataset using weight matrices and matrix multiplications. Then, we'll see how to do it using PyTorch's `nn` module which provides a much more convenient and powerful method for defining network architectures.\n",
    "\n",
    "The networks you've seen so far are called *fully-connected* or *dense* networks. Each unit in one layer is connected to each unit in the next layer. In fully-connected networks, the input to each layer must be a one-dimensional vector (which can be stacked into a 2D tensor as a batch of multiple examples). However, our images are 28x28 2D tensors, so we need to convert them into 1D vectors. Thinking about sizes, we need to convert the batch of images with shape `(64, 1, 28, 28)` to a have a shape of `(64, 784)`, 784 is 28 times 28. This is typically called *flattening*, we flattened the 2D images into 1D vectors.\n",
    "\n",
    "Previously you built a network with one output unit. Here we need 10 output units, one for each digit. We want our network to predict the digit shown in an image, so what we'll do is calculate probabilities that the image is of any one digit or class. This ends up being a discrete probability distribution over the classes (digits) that tells us the most likely class for the image. That means we need 10 output units for the 10 classes (digits). We'll see how to convert the network output into a probability distribution next.\n",
    "\n",
    "> **Exercise:** Flatten the batch of images `images`. Then build a multi-layer network with 784 input units, 256 hidden units, and 10 output units using random tensors for the weights and biases. For now, use a sigmoid activation for the hidden layer. Leave the output layer without an activation, we'll add one that gives us a probability distribution next."
   ]
  },
  {
   "cell_type": "code",
   "execution_count": 7,
   "metadata": {},
   "outputs": [
    {
     "name": "stdout",
     "output_type": "stream",
     "text": [
      "torch.Size([64, 784])\n"
     ]
    },
    {
     "data": {
      "text/plain": [
       "tensor([[-8.7603e+00, -2.5466e+00, -1.1067e+01, -6.1941e+00, -1.9521e+00,\n",
       "          3.7802e+00,  2.6560e+01, -2.8824e+00,  1.8168e+01,  1.5635e+01],\n",
       "        [-9.1758e+00, -1.0098e+01, -1.7625e+01, -1.0080e+01, -5.1722e+00,\n",
       "          1.3856e+01,  2.2999e+01,  4.7631e-01,  2.2902e+01,  1.3917e+01],\n",
       "        [ 5.5393e+00,  4.5654e+00, -1.7964e+01, -4.1335e+00,  2.2734e+00,\n",
       "          1.9905e+01,  2.0739e+01,  3.8446e+00,  2.2924e+01,  1.4588e+01],\n",
       "        [-6.1022e+00,  8.4033e+00, -4.8897e+00, -1.9621e+00,  1.0058e+01,\n",
       "          5.2063e+00,  1.8744e+01,  5.1693e+00,  1.8973e+01,  1.2828e+01],\n",
       "        [-8.1704e+00, -4.0578e+00, -2.3557e+01, -1.9284e+01,  3.1643e+00,\n",
       "          2.1266e+01,  2.7038e+01,  9.0844e+00,  1.7139e+01,  1.2882e+01],\n",
       "        [-3.8072e+00, -5.0939e+00, -7.3408e+00, -2.1948e+01, -7.9372e-01,\n",
       "          1.2284e+01,  8.6510e+00,  2.0644e+00,  2.2415e+01,  1.0243e+01],\n",
       "        [-6.9465e+00, -2.4014e+00, -1.3828e+01, -1.3962e+01, -1.7259e+00,\n",
       "          4.3936e+00,  1.3797e+01,  1.2853e+01,  2.2850e+00,  1.2416e+01],\n",
       "        [-4.4892e+00,  1.2231e+00, -1.4660e+01, -2.3246e+00,  1.6142e-01,\n",
       "          1.4193e+01,  2.4873e+01,  8.9210e+00,  1.3279e+01,  1.7640e+01],\n",
       "        [-2.3401e+00, -1.4745e+00, -2.0437e+01, -1.7268e+01,  8.4821e-01,\n",
       "          8.7861e+00,  2.0545e+01,  4.2885e+00,  1.2931e+01,  9.4836e+00],\n",
       "        [-8.3770e+00,  3.2833e+00, -5.0575e+00, -6.3290e+00,  2.5422e+00,\n",
       "          6.3305e+00,  1.6763e+01,  7.9694e+00,  1.2426e+01,  1.0206e+01],\n",
       "        [-4.5166e+00, -7.1729e+00, -1.6436e+01, -5.5277e+00,  6.6716e+00,\n",
       "          1.5659e+01,  1.8593e+01,  3.4478e+00,  1.9381e+01,  1.2127e+01],\n",
       "        [-8.1530e+00, -8.1460e+00, -1.4194e+00, -1.8060e+01, -9.2562e-01,\n",
       "          9.3847e+00,  1.9196e+01,  5.0194e+00,  5.9672e+00,  2.4322e-01],\n",
       "        [ 7.9439e-01,  5.5136e-01, -1.7598e+01, -1.5768e+01,  1.2337e+01,\n",
       "          6.6245e+00,  1.8745e+01,  1.4737e+01,  2.4008e+01,  4.3191e+00],\n",
       "        [-2.1093e+00, -7.6854e+00, -1.5150e+01, -9.5812e+00,  9.5407e+00,\n",
       "          1.6224e+01,  2.0811e+01,  6.9744e+00,  2.9082e+01,  1.9902e+01],\n",
       "        [-5.6588e+00,  4.6753e+00, -2.5384e+01, -1.6100e+01, -1.3042e+00,\n",
       "          6.5594e+00,  2.2183e+01,  7.4390e+00,  1.3270e+01,  2.6038e+01],\n",
       "        [-5.1634e+00,  9.4657e+00, -1.7962e+01, -2.0613e+01,  2.3243e+00,\n",
       "          9.9774e+00,  2.3108e+01, -3.3304e+00,  2.0286e+01,  1.2241e+01],\n",
       "        [-5.0444e+00, -9.7600e-03, -1.0161e+01, -1.1130e+01,  2.5435e+00,\n",
       "          7.3793e+00,  1.8886e+01,  5.8666e-01,  1.0356e+01,  9.0752e+00],\n",
       "        [-6.4265e+00, -1.0023e+01, -1.4703e+01, -8.3891e+00,  7.0070e+00,\n",
       "          9.5137e+00,  1.5733e+01,  9.1242e+00,  1.2620e+01,  1.3324e+01],\n",
       "        [-2.3786e+00,  8.3541e-01, -1.8634e+01, -1.1597e+01, -5.9796e+00,\n",
       "          6.2118e+00,  1.5407e+01,  3.5086e+00,  1.4181e+01,  6.1216e+00],\n",
       "        [-7.1751e+00,  1.3176e+00, -1.9772e+01, -4.6789e+00,  9.1797e+00,\n",
       "          9.6346e+00,  3.0809e+01,  8.6725e+00,  1.9355e+01,  1.6024e+01],\n",
       "        [-3.7179e+00, -8.2419e+00, -8.8497e+00, -1.7872e+01, -5.7279e+00,\n",
       "          4.4382e+00,  2.9265e+01, -7.1260e+00,  9.0893e+00,  4.6649e+00],\n",
       "        [-1.1238e+00, -5.4763e+00, -1.7253e+01, -8.1422e+00, -1.3080e+00,\n",
       "          1.5919e+01,  1.9824e+01,  5.2855e+00,  1.9753e+01,  2.1292e+01],\n",
       "        [-9.5202e+00, -3.5743e+00, -1.4060e+01, -4.0314e+00, -8.1659e+00,\n",
       "          1.8976e+00,  2.2964e+01,  6.9297e+00,  2.4735e+01,  1.9415e+01],\n",
       "        [-4.5487e+00, -3.9252e+00, -2.4591e+01, -1.7188e+01,  7.0506e+00,\n",
       "          7.4590e+00,  1.8475e+01,  1.5918e+01,  1.1675e+01,  3.4948e+00],\n",
       "        [-9.9650e+00, -1.0241e+00, -9.4410e+00, -1.1188e+01, -1.6285e+00,\n",
       "          5.9967e+00,  1.3606e+01,  4.9272e+00,  1.4686e+01,  2.7198e+00],\n",
       "        [-9.0138e+00,  1.2641e+01, -1.8686e+01, -2.2543e+01,  6.8308e+00,\n",
       "          9.4103e+00,  2.6605e+01, -1.9298e+00,  2.3843e+01,  1.8815e+01],\n",
       "        [-7.0769e+00, -6.7380e+00, -1.1570e+01, -7.3222e+00, -4.2032e+00,\n",
       "          1.2617e+01,  2.4500e+01, -8.1155e-01,  1.9384e+01,  1.7972e+01],\n",
       "        [-4.3308e+00,  1.6298e+00, -1.5606e+01, -1.1598e+01,  5.2756e+00,\n",
       "          9.8393e-02,  3.0296e+01,  6.2611e+00,  1.2603e+01,  8.2918e+00],\n",
       "        [-5.6670e-01,  4.2219e+00, -1.6974e+01, -6.1364e+00,  4.2654e+00,\n",
       "          1.2355e+01,  1.5164e+01,  4.8952e+00,  2.3566e+01,  2.2963e+01],\n",
       "        [-4.7391e+00,  4.5278e-01, -1.4212e+01, -7.5876e+00,  5.8860e+00,\n",
       "          7.2165e+00,  2.2249e+01,  9.3892e+00,  1.5810e+01,  1.4778e+01],\n",
       "        [-5.6108e+00, -9.7339e+00, -1.9934e+01, -8.8915e+00, -5.5762e+00,\n",
       "          7.5355e+00,  2.1878e+01,  2.3597e+00,  2.4668e+01,  1.1690e+01],\n",
       "        [-5.0591e+00, -1.7594e+00, -9.7682e+00, -7.8243e+00,  9.6744e+00,\n",
       "          1.3344e+01,  2.1185e+01, -2.2081e+00,  1.9577e+01,  1.5967e+01],\n",
       "        [-1.3575e+01, -1.1100e+00, -1.0680e+01, -1.5607e+01,  1.9541e-01,\n",
       "          1.0433e+01,  2.1044e+01,  5.1255e+00,  4.3662e+00,  1.1703e+01],\n",
       "        [-2.5956e+00, -5.7992e+00, -1.6107e+01, -7.6217e+00,  2.8876e+00,\n",
       "          6.7270e+00,  1.8921e+01,  3.6613e+00,  6.3654e+00,  2.1906e+01],\n",
       "        [-7.5483e+00, -1.4368e+00, -1.8309e+01, -1.1849e+01,  4.7166e+00,\n",
       "          1.4865e+01,  1.4523e+01,  3.9901e+00,  1.9604e+01,  1.6770e+01],\n",
       "        [-1.2751e+00, -7.5889e+00, -1.5562e+01, -7.0822e+00,  7.8227e+00,\n",
       "          9.1657e+00,  2.1113e+01, -3.2145e-01,  2.1994e+01,  1.7126e+01],\n",
       "        [-7.8123e+00, -1.0143e+01, -1.3577e+01, -6.9618e+00, -7.2151e+00,\n",
       "          8.7222e+00,  2.3644e+01,  3.4637e+00,  1.8073e+01,  1.6893e+01],\n",
       "        [-3.4814e+00,  5.6896e+00, -1.1194e+01, -1.4689e+01,  2.2445e+00,\n",
       "          3.2419e+00,  1.4447e+01,  8.5910e+00,  1.0002e+01,  6.4611e+00],\n",
       "        [-3.8429e+00,  2.8828e+00, -1.8922e+01, -9.5490e+00,  9.7435e+00,\n",
       "          1.0934e+01,  1.6681e+01,  1.3032e+01,  2.2508e+01,  5.3462e+00],\n",
       "        [-6.6843e+00, -2.1560e+00, -2.3850e+01, -1.2952e+01, -6.4231e+00,\n",
       "          1.8112e+01,  2.9136e+01,  2.4263e-01,  1.7777e+01,  1.2727e+01],\n",
       "        [-1.0133e+01, -2.1886e+00, -8.9114e+00, -1.7010e+01,  1.7104e+00,\n",
       "          9.2857e+00,  1.6621e+01,  1.3000e+00,  1.2238e+01,  8.4295e+00],\n",
       "        [-1.0775e+00,  2.6795e+00, -1.6855e+01, -1.5798e+01,  5.1664e+00,\n",
       "          2.0459e+00,  2.7478e+01,  3.9091e+00,  2.4238e+01,  6.1077e+00],\n",
       "        [-5.7308e+00, -2.5699e-01, -5.1858e+00, -5.3314e+00,  1.0208e+01,\n",
       "          1.2554e+01,  9.8310e+00,  1.4931e+01,  1.0243e+01,  5.9360e+00],\n",
       "        [-8.6248e+00, -6.9903e+00, -1.9783e+01, -9.5456e+00,  1.8423e+00,\n",
       "          1.4284e+01,  1.5690e+01,  4.2368e+00,  1.5996e+01,  1.7646e+01],\n",
       "        [ 4.6742e-02, -8.6253e+00, -1.7523e+01, -6.1960e+00, -5.3024e+00,\n",
       "          1.3243e+01,  2.5121e+01,  5.5120e+00,  1.2156e+01,  1.0045e+01],\n",
       "        [ 4.5872e+00, -5.1973e+00, -1.4186e+01, -1.3413e+01, -5.0615e+00,\n",
       "          6.3791e+00,  1.7130e+01, -3.7168e+00,  1.2228e+01,  1.5391e+01],\n",
       "        [ 5.4474e-01, -6.7791e+00, -1.7748e+01, -1.8810e+01,  6.6784e+00,\n",
       "          1.3196e+01,  1.9660e+01,  6.0655e+00,  1.4577e+01,  1.2947e+01],\n",
       "        [-6.6825e+00,  2.0258e-01, -1.2304e+01, -7.9359e+00,  7.4837e-01,\n",
       "          9.7333e+00,  1.7698e+01,  4.0469e+00,  1.7307e+01,  2.4114e+01],\n",
       "        [-1.7483e+00, -1.8872e+00, -5.6628e+00, -1.8502e+01, -8.5351e+00,\n",
       "          7.6496e+00,  2.2771e+01, -3.0713e+00,  1.3374e+01,  1.7675e+01],\n",
       "        [-3.3294e+00, -8.0436e+00, -1.7459e+01, -1.0912e+01, -2.1873e-01,\n",
       "          1.2702e+01,  1.6602e+01,  6.2192e+00,  1.5005e+01,  1.7925e+01],\n",
       "        [-5.7469e+00, -6.1839e+00, -2.2025e+01, -1.1593e+01, -1.8567e+00,\n",
       "          1.9697e+01,  2.6021e+01,  4.8928e+00,  1.4152e+01,  1.2436e+01],\n",
       "        [ 3.7257e+00, -1.8396e+00, -2.1860e+01, -1.9110e+01, -3.1155e-01,\n",
       "          1.2937e+01,  2.1518e+01,  2.4581e+00,  1.7626e+01,  1.5536e+01],\n",
       "        [-3.9244e+00, -1.1105e+01, -1.9860e+01, -1.4444e+01, -9.4742e+00,\n",
       "          1.5749e+01,  2.4151e+01, -5.5416e+00,  4.6633e+00,  1.2056e+01],\n",
       "        [ 3.7933e-01, -3.5411e+00, -1.0777e+01, -1.0804e+01,  2.1481e+00,\n",
       "          7.3850e+00,  2.7787e+01,  7.0928e-01,  1.3758e+00,  7.2958e+00],\n",
       "        [-4.4049e+00, -1.6372e+00, -1.7319e+01, -1.0122e+01, -1.6191e+00,\n",
       "          1.1132e+01,  2.8231e+01, -3.5663e+00,  1.2389e+01,  9.4745e+00],\n",
       "        [-8.7338e+00, -1.3792e+01, -1.8718e+01, -1.4456e+01,  2.1616e+00,\n",
       "          1.2393e+00,  2.4534e+01,  1.1399e+01,  7.6784e+00,  9.7670e+00],\n",
       "        [-2.9993e+00, -3.9180e+00, -1.7679e+01, -6.9479e+00, -6.8418e-01,\n",
       "          1.3009e+01,  9.6853e+00,  1.6927e+01,  1.8465e+01,  1.5461e+01],\n",
       "        [-6.2216e+00,  6.9451e+00, -1.7556e+01, -1.5625e+01,  7.2162e+00,\n",
       "          8.5296e+00,  3.0723e+01,  7.0629e+00,  1.8773e+01,  2.6160e+00],\n",
       "        [-8.4078e+00, -5.8319e-01, -2.0048e+01, -1.0519e+01, -3.6073e+00,\n",
       "          1.9235e+01,  2.0723e+01, -5.4610e+00,  1.2521e+01,  7.1384e+00],\n",
       "        [-2.7939e+00, -5.1889e+00, -2.0335e+01, -2.0417e+01, -7.7599e-01,\n",
       "          2.1073e+01,  2.4481e+01,  4.8195e+00,  1.3200e+01,  1.8742e+01],\n",
       "        [-4.6870e+00, -1.0009e+01, -1.2752e+01, -1.2765e+01,  1.8664e+00,\n",
       "          4.7811e+00,  2.4235e+01,  8.2253e+00,  1.2648e+01,  2.1112e+01],\n",
       "        [ 8.5182e+00, -7.7177e+00, -1.5550e+01, -1.5855e+01, -9.8329e+00,\n",
       "          1.5118e+00,  2.6680e+01, -1.1727e+00,  1.2012e+01,  1.3938e+01],\n",
       "        [-8.6507e-01, -1.2982e+01, -1.6743e+01, -6.7366e+00, -5.7820e+00,\n",
       "          1.2655e+01,  2.6726e+01, -4.8515e+00,  1.4904e+01,  7.1991e+00],\n",
       "        [-1.0463e+00, -3.4291e+00, -9.8552e+00, -9.3476e+00, -9.7796e+00,\n",
       "          2.5708e+00,  2.7615e+01,  7.4679e+00,  1.8606e+01,  1.3844e+01]])"
      ]
     },
     "execution_count": 7,
     "metadata": {},
     "output_type": "execute_result"
    }
   ],
   "source": [
    "## Your solution\n",
    "def activation(x):\n",
    "    return 1/(1+torch.exp(-x))\n",
    "\n",
    "torch.manual_seed(3)\n",
    "\n",
    "#imgs = images.reshape(784, -1)\n",
    "imgs = images.view(images.shape[0], -1)\n",
    "print(imgs.shape)\n",
    "w1 = torch.randn(784,256)\n",
    "w2 = torch.randn(256,10)\n",
    "b1 = torch.randn(256)\n",
    "b2 = torch.randn(10)\n",
    "\n",
    "a2 = activation(torch.mm(imgs, w1) + b1)\n",
    "\n",
    "out = torch.mm(a2, w2) + b2 # output of your network, should have shape (64,10)\n",
    "out"
   ]
  },
  {
   "cell_type": "markdown",
   "metadata": {},
   "source": [
    "Now we have 10 outputs for our network. We want to pass in an image to our network and get out a probability distribution over the classes that tells us the likely class(es) the image belongs to. Something that looks like this:\n",
    "<img src='assets/image_distribution.png' width=500px>\n",
    "\n",
    "Here we see that the probability for each class is roughly the same. This is representing an untrained network, it hasn't seen any data yet so it just returns a uniform distribution with equal probabilities for each class.\n",
    "\n",
    "To calculate this probability distribution, we often use the [**softmax** function](https://en.wikipedia.org/wiki/Softmax_function). Mathematically this looks like\n",
    "\n",
    "$$\n",
    "\\Large \\sigma(x_i) = \\cfrac{e^{x_i}}{\\sum_k^K{e^{x_k}}}\n",
    "$$\n",
    "\n",
    "What this does is squish each input $x_i$ between 0 and 1 and normalizes the values to give you a proper probability distribution where the probabilites sum up to one.\n",
    "\n",
    "> **Exercise:** Implement a function `softmax` that performs the softmax calculation and returns probability distributions for each example in the batch. Note that you'll need to pay attention to the shapes when doing this. If you have a tensor `a` with shape `(64, 10)` and a tensor `b` with shape `(64,)`, doing `a/b` will give you an error because PyTorch will try to do the division across the columns (called broadcasting) but you'll get a size mismatch. The way to think about this is for each of the 64 examples, you only want to divide by one value, the sum in the denominator. So you need `b` to have a shape of `(64, 1)`. This way PyTorch will divide the 10 values in each row of `a` by the one value in each row of `b`. Pay attention to how you take the sum as well. You'll need to define the `dim` keyword in `torch.sum`. Setting `dim=0` takes the sum across the rows while `dim=1` takes the sum across the columns."
   ]
  },
  {
   "cell_type": "code",
   "execution_count": 11,
   "metadata": {},
   "outputs": [
    {
     "name": "stdout",
     "output_type": "stream",
     "text": [
      "torch.Size([64, 10])\n",
      "tensor([1.0000, 1.0000, 1.0000, 1.0000, 1.0000, 1.0000, 1.0000, 1.0000, 1.0000,\n",
      "        1.0000, 1.0000, 1.0000, 1.0000, 1.0000, 1.0000, 1.0000, 1.0000, 1.0000,\n",
      "        1.0000, 1.0000, 1.0000, 1.0000, 1.0000, 1.0000, 1.0000, 1.0000, 1.0000,\n",
      "        1.0000, 1.0000, 1.0000, 1.0000, 1.0000, 1.0000, 1.0000, 1.0000, 1.0000,\n",
      "        1.0000, 1.0000, 1.0000, 1.0000, 1.0000, 1.0000, 1.0000, 1.0000, 1.0000,\n",
      "        1.0000, 1.0000, 1.0000, 1.0000, 1.0000, 1.0000, 1.0000, 1.0000, 1.0000,\n",
      "        1.0000, 1.0000, 1.0000, 1.0000, 1.0000, 1.0000, 1.0000, 1.0000, 1.0000,\n",
      "        1.0000])\n"
     ]
    }
   ],
   "source": [
    "def softmax(x):\n",
    "    ## TODO: Implement the softmax function here\n",
    "    return torch.exp(x) / torch.sum(torch.exp(x), dim=1).view(-1, 1)\n",
    "    \n",
    "# Here, out should be the output of the network in the previous excercise with shape (64,10)\n",
    "probabilities = softmax(out)\n",
    "\n",
    "# Does it have the right shape? Should be (64, 10)\n",
    "print(probabilities.shape)\n",
    "# Does it sum to 1?\n",
    "print(probabilities.sum(dim=1))"
   ]
  },
  {
   "cell_type": "markdown",
   "metadata": {},
   "source": [
    "## Building networks with PyTorch\n",
    "\n",
    "PyTorch provides a module `nn` that makes building networks much simpler. Here I'll show you how to build the same one as above with 784 inputs, 256 hidden units, 10 output units and a softmax output."
   ]
  },
  {
   "cell_type": "code",
   "execution_count": 12,
   "metadata": {},
   "outputs": [],
   "source": [
    "from torch import nn"
   ]
  },
  {
   "cell_type": "code",
   "execution_count": 13,
   "metadata": {},
   "outputs": [],
   "source": [
    "class Network(nn.Module):\n",
    "    def __init__(self):\n",
    "        super().__init__()\n",
    "        \n",
    "        # Inputs to hidden layer linear transformation\n",
    "        self.hidden = nn.Linear(784, 256)\n",
    "        # Output layer, 10 units - one for each digit\n",
    "        self.output = nn.Linear(256, 10)\n",
    "        \n",
    "        # Define sigmoid activation and softmax output \n",
    "        self.sigmoid = nn.Sigmoid()\n",
    "        self.softmax = nn.Softmax(dim=1)\n",
    "        \n",
    "    def forward(self, x):\n",
    "        # Pass the input tensor through each of our operations\n",
    "        x = self.hidden(x)\n",
    "        x = self.sigmoid(x)\n",
    "        x = self.output(x)\n",
    "        x = self.softmax(x)\n",
    "        \n",
    "        return x"
   ]
  },
  {
   "cell_type": "markdown",
   "metadata": {},
   "source": [
    "Let's go through this bit by bit.\n",
    "\n",
    "```python\n",
    "class Network(nn.Module):\n",
    "```\n",
    "\n",
    "Here we're inheriting from `nn.Module`. Combined with `super().__init__()` this creates a class that tracks the architecture and provides a lot of useful methods and attributes. It is mandatory to inherit from `nn.Module` when you're creating a class for your network. The name of the class itself can be anything.\n",
    "\n",
    "```python\n",
    "self.hidden = nn.Linear(784, 256)\n",
    "```\n",
    "\n",
    "This line creates a module for a linear transformation, $x\\mathbf{W} + b$, with 784 inputs and 256 outputs and assigns it to `self.hidden`. The module automatically creates the weight and bias tensors which we'll use in the `forward` method. You can access the weight and bias tensors once the network (`net`) is created with `net.hidden.weight` and `net.hidden.bias`.\n",
    "\n",
    "```python\n",
    "self.output = nn.Linear(256, 10)\n",
    "```\n",
    "\n",
    "Similarly, this creates another linear transformation with 256 inputs and 10 outputs.\n",
    "\n",
    "```python\n",
    "self.sigmoid = nn.Sigmoid()\n",
    "self.softmax = nn.Softmax(dim=1)\n",
    "```\n",
    "\n",
    "Here I defined operations for the sigmoid activation and softmax output. Setting `dim=1` in `nn.Softmax(dim=1)` calculates softmax across the columns.\n",
    "\n",
    "```python\n",
    "def forward(self, x):\n",
    "```\n",
    "\n",
    "PyTorch networks created with `nn.Module` must have a `forward` method defined. It takes in a tensor `x` and passes it through the operations you defined in the `__init__` method.\n",
    "\n",
    "```python\n",
    "x = self.hidden(x)\n",
    "x = self.sigmoid(x)\n",
    "x = self.output(x)\n",
    "x = self.softmax(x)\n",
    "```\n",
    "\n",
    "Here the input tensor `x` is passed through each operation and reassigned to `x`. We can see that the input tensor goes through the hidden layer, then a sigmoid function, then the output layer, and finally the softmax function. It doesn't matter what you name the variables here, as long as the inputs and outputs of the operations match the network architecture you want to build. The order in which you define things in the `__init__` method doesn't matter, but you'll need to sequence the operations correctly in the `forward` method.\n",
    "\n",
    "Now we can create a `Network` object."
   ]
  },
  {
   "cell_type": "code",
   "execution_count": 14,
   "metadata": {},
   "outputs": [
    {
     "data": {
      "text/plain": [
       "Network(\n",
       "  (hidden): Linear(in_features=784, out_features=256, bias=True)\n",
       "  (output): Linear(in_features=256, out_features=10, bias=True)\n",
       "  (sigmoid): Sigmoid()\n",
       "  (softmax): Softmax()\n",
       ")"
      ]
     },
     "execution_count": 14,
     "metadata": {},
     "output_type": "execute_result"
    }
   ],
   "source": [
    "# Create the network and look at it's text representation\n",
    "model = Network()\n",
    "model"
   ]
  },
  {
   "cell_type": "markdown",
   "metadata": {},
   "source": [
    "You can define the network somewhat more concisely and clearly using the `torch.nn.functional` module. This is the most common way you'll see networks defined as many operations are simple element-wise functions. We normally import this module as `F`, `import torch.nn.functional as F`."
   ]
  },
  {
   "cell_type": "code",
   "execution_count": 15,
   "metadata": {},
   "outputs": [],
   "source": [
    "import torch.nn.functional as F\n",
    "\n",
    "class Network(nn.Module):\n",
    "    def __init__(self):\n",
    "        super().__init__()\n",
    "        # Inputs to hidden layer linear transformation\n",
    "        self.hidden = nn.Linear(784, 256)\n",
    "        # Output layer, 10 units - one for each digit\n",
    "        self.output = nn.Linear(256, 10)\n",
    "        \n",
    "    def forward(self, x):\n",
    "        # Hidden layer with sigmoid activation\n",
    "        x = F.sigmoid(self.hidden(x))\n",
    "        # Output layer with softmax activation\n",
    "        x = F.softmax(self.output(x), dim=1)\n",
    "        \n",
    "        return x"
   ]
  },
  {
   "cell_type": "markdown",
   "metadata": {},
   "source": [
    "### Activation functions\n",
    "\n",
    "So far we've only been looking at the sigmoid activation function, but in general any function can be used as an activation function. The only requirement is that for a network to approximate a non-linear function, the activation functions must be non-linear. Here are a few more examples of common activation functions: Tanh (hyperbolic tangent), and ReLU (rectified linear unit).\n",
    "\n",
    "<img src=\"assets/activation.png\" width=700px>\n",
    "\n",
    "In practice, the ReLU function is used almost exclusively as the activation function for hidden layers."
   ]
  },
  {
   "cell_type": "markdown",
   "metadata": {},
   "source": [
    "### Your Turn to Build a Network\n",
    "\n",
    "<img src=\"assets/mlp_mnist.png\" width=600px>\n",
    "\n",
    "> **Exercise:** Create a network with 784 input units, a hidden layer with 128 units and a ReLU activation, then a hidden layer with 64 units and a ReLU activation, and finally an output layer with a softmax activation as shown above. You can use a ReLU activation with the `nn.ReLU` module or `F.relu` function.\n",
    "\n",
    "It's good practice to name your layers by their type of network, for instance 'fc' to represent a fully-connected layer. As you code your solution, use `fc1`, `fc2`, and `fc3` as your layer names."
   ]
  },
  {
   "cell_type": "code",
   "execution_count": 19,
   "metadata": {
    "scrolled": true
   },
   "outputs": [
    {
     "data": {
      "text/plain": [
       "Model(\n",
       "  (fc1): Linear(in_features=784, out_features=128, bias=True)\n",
       "  (fc2): Linear(in_features=128, out_features=64, bias=True)\n",
       "  (fc3): Linear(in_features=64, out_features=1, bias=True)\n",
       "  (activation): ReLU()\n",
       ")"
      ]
     },
     "execution_count": 19,
     "metadata": {},
     "output_type": "execute_result"
    }
   ],
   "source": [
    "## Your solution here\n",
    "class Model(nn.Module):\n",
    "    def __init__(self):\n",
    "        super().__init__()\n",
    "        self.fc1 = nn.Linear(784, 128)\n",
    "        self.fc2 = nn.Linear(128, 64)\n",
    "        self.fc3 = nn.Linear(64, 1)\n",
    "        self.activation = nn.ReLU()\n",
    "        \n",
    "    def feedfoward(self, x):\n",
    "        x = self.activation(self.fc1(x))\n",
    "        x = self.activation(self.fc2(x))\n",
    "        x = self.activation(self.fc3(x))\n",
    "        x = F.softmax(x, dim=1)\n",
    "        return x\n",
    "    \n",
    "model = Model()    \n",
    "model"
   ]
  },
  {
   "cell_type": "markdown",
   "metadata": {},
   "source": [
    "### Initializing weights and biases\n",
    "\n",
    "The weights and such are automatically initialized for you, but it's possible to customize how they are initialized. The weights and biases are tensors attached to the layer you defined, you can get them with `model.fc1.weight` for instance."
   ]
  },
  {
   "cell_type": "code",
   "execution_count": 20,
   "metadata": {},
   "outputs": [
    {
     "name": "stdout",
     "output_type": "stream",
     "text": [
      "Parameter containing:\n",
      "tensor([[ 0.0134, -0.0160,  0.0121,  ...,  0.0101,  0.0142,  0.0035],\n",
      "        [-0.0255, -0.0082, -0.0122,  ..., -0.0179, -0.0023, -0.0045],\n",
      "        [-0.0307, -0.0261, -0.0028,  ..., -0.0306, -0.0113,  0.0111],\n",
      "        ...,\n",
      "        [ 0.0208, -0.0343, -0.0221,  ...,  0.0033,  0.0068,  0.0104],\n",
      "        [ 0.0051,  0.0085,  0.0025,  ..., -0.0332, -0.0346, -0.0247],\n",
      "        [-0.0042, -0.0212,  0.0024,  ..., -0.0107,  0.0190, -0.0319]],\n",
      "       requires_grad=True)\n",
      "Parameter containing:\n",
      "tensor([ 2.4289e-02, -1.7889e-02, -3.5207e-02, -2.7247e-02, -1.7522e-02,\n",
      "         1.0294e-02, -3.4665e-02, -2.8402e-02,  3.5178e-02,  1.2913e-02,\n",
      "         4.1641e-03,  5.6251e-03,  1.4133e-02, -1.3661e-02, -6.6767e-03,\n",
      "         2.1679e-02,  3.6760e-03,  2.1069e-02,  9.9380e-03,  3.4011e-02,\n",
      "        -2.5358e-02,  2.7343e-02,  3.0823e-05, -1.6550e-02, -7.0562e-03,\n",
      "        -1.6535e-02,  1.6487e-02,  1.2658e-02,  1.8561e-03,  3.0051e-02,\n",
      "        -3.3998e-02, -1.9413e-02,  2.4597e-03,  9.4126e-03,  1.9957e-03,\n",
      "        -1.0859e-02, -2.2967e-02,  2.8957e-03, -5.3174e-04,  2.1903e-02,\n",
      "        -2.2052e-02, -3.0806e-02,  2.3662e-02,  1.1959e-02,  2.4303e-03,\n",
      "         3.7109e-03, -2.7219e-02, -2.8269e-02, -1.6203e-02,  1.8575e-02,\n",
      "        -2.6453e-02, -5.4286e-03,  1.7601e-03,  2.5934e-02,  3.3517e-02,\n",
      "         1.4353e-02,  2.6759e-02,  2.4780e-02, -6.0794e-03,  1.0229e-02,\n",
      "         2.8189e-02,  7.7331e-03, -8.7852e-03,  2.2817e-02,  2.1060e-02,\n",
      "         3.4725e-03, -2.1573e-02,  1.1878e-02, -6.0031e-04,  7.0781e-03,\n",
      "        -2.6523e-02, -9.1246e-03,  1.2733e-02,  6.0308e-03,  2.8723e-03,\n",
      "        -2.4703e-02,  1.6568e-02, -9.1204e-03,  3.2228e-03, -2.8795e-02,\n",
      "        -1.2835e-02,  1.9246e-02,  1.0482e-02, -1.8907e-02,  3.3703e-02,\n",
      "         1.8129e-02, -1.1933e-02,  1.3284e-02,  5.0799e-03,  3.2725e-02,\n",
      "         2.7381e-02, -5.7585e-03, -3.1358e-02, -3.4106e-02,  2.2032e-02,\n",
      "        -1.0081e-03, -1.8272e-02,  4.0387e-03,  1.2312e-02, -2.3614e-02,\n",
      "         6.7219e-03,  3.1920e-02, -1.4047e-02,  4.7836e-03, -2.4947e-02,\n",
      "         1.7225e-02,  1.8314e-02, -2.7713e-02, -5.3587e-03,  2.4575e-03,\n",
      "         1.9825e-02, -3.1708e-02, -7.7711e-03,  2.3952e-02,  1.3301e-02,\n",
      "        -1.8817e-02, -3.4376e-02, -1.1770e-02, -1.9462e-03, -3.2866e-02,\n",
      "        -1.3983e-02, -2.6726e-02, -1.8359e-02,  1.0307e-02,  3.3387e-02,\n",
      "         2.9587e-02,  5.6293e-03,  1.4321e-02], requires_grad=True)\n"
     ]
    }
   ],
   "source": [
    "print(model.fc1.weight)\n",
    "print(model.fc1.bias)"
   ]
  },
  {
   "cell_type": "markdown",
   "metadata": {},
   "source": [
    "For custom initialization, we want to modify these tensors in place. These are actually autograd *Variables*, so we need to get back the actual tensors with `model.fc1.weight.data`. Once we have the tensors, we can fill them with zeros (for biases) or random normal values."
   ]
  },
  {
   "cell_type": "code",
   "execution_count": 21,
   "metadata": {},
   "outputs": [
    {
     "data": {
      "text/plain": [
       "tensor([0., 0., 0., 0., 0., 0., 0., 0., 0., 0., 0., 0., 0., 0., 0., 0., 0., 0., 0., 0., 0., 0., 0., 0.,\n",
       "        0., 0., 0., 0., 0., 0., 0., 0., 0., 0., 0., 0., 0., 0., 0., 0., 0., 0., 0., 0., 0., 0., 0., 0.,\n",
       "        0., 0., 0., 0., 0., 0., 0., 0., 0., 0., 0., 0., 0., 0., 0., 0., 0., 0., 0., 0., 0., 0., 0., 0.,\n",
       "        0., 0., 0., 0., 0., 0., 0., 0., 0., 0., 0., 0., 0., 0., 0., 0., 0., 0., 0., 0., 0., 0., 0., 0.,\n",
       "        0., 0., 0., 0., 0., 0., 0., 0., 0., 0., 0., 0., 0., 0., 0., 0., 0., 0., 0., 0., 0., 0., 0., 0.,\n",
       "        0., 0., 0., 0., 0., 0., 0., 0.])"
      ]
     },
     "execution_count": 21,
     "metadata": {},
     "output_type": "execute_result"
    }
   ],
   "source": [
    "# Set biases to all zeros\n",
    "model.fc1.bias.data.fill_(0)"
   ]
  },
  {
   "cell_type": "code",
   "execution_count": 22,
   "metadata": {},
   "outputs": [
    {
     "data": {
      "text/plain": [
       "tensor([[-0.0070, -0.0069,  0.0072,  ...,  0.0097, -0.0076, -0.0135],\n",
       "        [ 0.0004,  0.0117,  0.0138,  ..., -0.0146, -0.0205, -0.0049],\n",
       "        [-0.0119, -0.0050, -0.0094,  ..., -0.0014, -0.0066, -0.0114],\n",
       "        ...,\n",
       "        [-0.0116,  0.0037, -0.0027,  ..., -0.0052, -0.0015, -0.0072],\n",
       "        [-0.0026, -0.0056,  0.0050,  ...,  0.0094,  0.0007, -0.0003],\n",
       "        [-0.0001, -0.0060, -0.0069,  ...,  0.0024,  0.0040,  0.0213]])"
      ]
     },
     "execution_count": 22,
     "metadata": {},
     "output_type": "execute_result"
    }
   ],
   "source": [
    "# sample from random normal with standard dev = 0.01\n",
    "model.fc1.weight.data.normal_(std=0.01)"
   ]
  },
  {
   "cell_type": "markdown",
   "metadata": {},
   "source": [
    "### Forward pass\n",
    "\n",
    "Now that we have a network, let's see what happens when we pass in an image."
   ]
  },
  {
   "cell_type": "code",
   "execution_count": 23,
   "metadata": {},
   "outputs": [
    {
     "ename": "NotImplementedError",
     "evalue": "",
     "output_type": "error",
     "traceback": [
      "\u001b[0;31m------------------------------------------------------------\u001b[0m",
      "\u001b[0;31mNotImplementedError\u001b[0m        Traceback (most recent call last)",
      "\u001b[0;32m<ipython-input-23-3760ccc5c3dd>\u001b[0m in \u001b[0;36m<module>\u001b[0;34m()\u001b[0m\n\u001b[1;32m      9\u001b[0m \u001b[0;31m# Forward pass through the network\u001b[0m\u001b[0;34m\u001b[0m\u001b[0;34m\u001b[0m\u001b[0m\n\u001b[1;32m     10\u001b[0m \u001b[0mimg_idx\u001b[0m \u001b[0;34m=\u001b[0m \u001b[0;36m0\u001b[0m\u001b[0;34m\u001b[0m\u001b[0m\n\u001b[0;32m---> 11\u001b[0;31m \u001b[0mps\u001b[0m \u001b[0;34m=\u001b[0m \u001b[0mmodel\u001b[0m\u001b[0;34m.\u001b[0m\u001b[0mforward\u001b[0m\u001b[0;34m(\u001b[0m\u001b[0mimages\u001b[0m\u001b[0;34m[\u001b[0m\u001b[0mimg_idx\u001b[0m\u001b[0;34m,\u001b[0m\u001b[0;34m:\u001b[0m\u001b[0;34m]\u001b[0m\u001b[0;34m)\u001b[0m\u001b[0;34m\u001b[0m\u001b[0m\n\u001b[0m\u001b[1;32m     12\u001b[0m \u001b[0;34m\u001b[0m\u001b[0m\n\u001b[1;32m     13\u001b[0m \u001b[0mimg\u001b[0m \u001b[0;34m=\u001b[0m \u001b[0mimages\u001b[0m\u001b[0;34m[\u001b[0m\u001b[0mimg_idx\u001b[0m\u001b[0;34m]\u001b[0m\u001b[0;34m\u001b[0m\u001b[0m\n",
      "\u001b[0;32m~/anaconda3/lib/python3.6/site-packages/torch/nn/modules/module.py\u001b[0m in \u001b[0;36mforward\u001b[0;34m(self, *input)\u001b[0m\n\u001b[1;32m     83\u001b[0m             \u001b[0mregistered\u001b[0m \u001b[0mhooks\u001b[0m \u001b[0;32mwhile\u001b[0m \u001b[0mthe\u001b[0m \u001b[0mlatter\u001b[0m \u001b[0msilently\u001b[0m \u001b[0mignores\u001b[0m \u001b[0mthem\u001b[0m\u001b[0;34m.\u001b[0m\u001b[0;34m\u001b[0m\u001b[0m\n\u001b[1;32m     84\u001b[0m         \"\"\"\n\u001b[0;32m---> 85\u001b[0;31m         \u001b[0;32mraise\u001b[0m \u001b[0mNotImplementedError\u001b[0m\u001b[0;34m\u001b[0m\u001b[0m\n\u001b[0m\u001b[1;32m     86\u001b[0m \u001b[0;34m\u001b[0m\u001b[0m\n\u001b[1;32m     87\u001b[0m     \u001b[0;32mdef\u001b[0m \u001b[0mregister_buffer\u001b[0m\u001b[0;34m(\u001b[0m\u001b[0mself\u001b[0m\u001b[0;34m,\u001b[0m \u001b[0mname\u001b[0m\u001b[0;34m,\u001b[0m \u001b[0mtensor\u001b[0m\u001b[0;34m)\u001b[0m\u001b[0;34m:\u001b[0m\u001b[0;34m\u001b[0m\u001b[0m\n",
      "\u001b[0;31mNotImplementedError\u001b[0m: "
     ]
    }
   ],
   "source": [
    "# Grab some data \n",
    "dataiter = iter(trainloader)\n",
    "images, labels = dataiter.next()\n",
    "\n",
    "# Resize images into a 1D vector, new shape is (batch size, color channels, image pixels) \n",
    "images.resize_(64, 1, 784)\n",
    "# or images.resize_(images.shape[0], 1, 784) to automatically get batch size\n",
    "\n",
    "# Forward pass through the network\n",
    "img_idx = 0\n",
    "ps = model.forward(images[img_idx,:])\n",
    "\n",
    "img = images[img_idx]\n",
    "helper.view_classify(img.view(1, 28, 28), ps)"
   ]
  },
  {
   "cell_type": "markdown",
   "metadata": {},
   "source": [
    "As you can see above, our network has basically no idea what this digit is. It's because we haven't trained it yet, all the weights are random!\n",
    "\n",
    "### Using `nn.Sequential`\n",
    "\n",
    "PyTorch provides a convenient way to build networks like this where a tensor is passed sequentially through operations, `nn.Sequential` ([documentation](https://pytorch.org/docs/master/nn.html#torch.nn.Sequential)). Using this to build the equivalent network:"
   ]
  },
  {
   "cell_type": "code",
   "execution_count": 24,
   "metadata": {},
   "outputs": [
    {
     "name": "stdout",
     "output_type": "stream",
     "text": [
      "Sequential(\n",
      "  (0): Linear(in_features=784, out_features=128, bias=True)\n",
      "  (1): ReLU()\n",
      "  (2): Linear(in_features=128, out_features=64, bias=True)\n",
      "  (3): ReLU()\n",
      "  (4): Linear(in_features=64, out_features=10, bias=True)\n",
      "  (5): Softmax()\n",
      ")\n"
     ]
    },
    {
     "data": {
      "image/png": "[encoded data removed]",
      "text/plain": [
       "<Figure size 432x648 with 2 Axes>"
      ]
     },
     "metadata": {
      "image/png": {
       "height": 226,
       "width": 423
      }
     },
     "output_type": "display_data"
    }
   ],
   "source": [
    "# Hyperparameters for our network\n",
    "input_size = 784\n",
    "hidden_sizes = [128, 64]\n",
    "output_size = 10\n",
    "\n",
    "# Build a feed-forward network\n",
    "model = nn.Sequential(nn.Linear(input_size, hidden_sizes[0]),\n",
    "                      nn.ReLU(),\n",
    "                      nn.Linear(hidden_sizes[0], hidden_sizes[1]),\n",
    "                      nn.ReLU(),\n",
    "                      nn.Linear(hidden_sizes[1], output_size),\n",
    "                      nn.Softmax(dim=1))\n",
    "print(model)\n",
    "\n",
    "# Forward pass through the network and display output\n",
    "images, labels = next(iter(trainloader))\n",
    "images.resize_(images.shape[0], 1, 784)\n",
    "ps = model.forward(images[0,:])\n",
    "helper.view_classify(images[0].view(1, 28, 28), ps)"
   ]
  },
  {
   "cell_type": "markdown",
   "metadata": {},
   "source": [
    "Here our model is the same as before: 784 input units, a hidden layer with 128 units, ReLU activation, 64 unit hidden layer, another ReLU, then the output layer with 10 units, and the softmax output.\n",
    "\n",
    "The operations are available by passing in the appropriate index. For example, if you want to get first Linear operation and look at the weights, you'd use `model[0]`."
   ]
  },
  {
   "cell_type": "code",
   "execution_count": 25,
   "metadata": {},
   "outputs": [
    {
     "name": "stdout",
     "output_type": "stream",
     "text": [
      "Linear(in_features=784, out_features=128, bias=True)\n"
     ]
    },
    {
     "data": {
      "text/plain": [
       "Parameter containing:\n",
       "tensor([[-0.0273, -0.0135,  0.0002,  ...,  0.0139,  0.0221, -0.0020],\n",
       "        [-0.0018, -0.0242, -0.0153,  ..., -0.0315,  0.0208, -0.0306],\n",
       "        [-0.0144,  0.0047, -0.0085,  ...,  0.0258,  0.0116,  0.0311],\n",
       "        ...,\n",
       "        [-0.0033, -0.0348, -0.0144,  ...,  0.0231,  0.0257, -0.0297],\n",
       "        [ 0.0198, -0.0153,  0.0267,  ...,  0.0128,  0.0001, -0.0318],\n",
       "        [ 0.0259, -0.0039, -0.0255,  ..., -0.0320,  0.0279,  0.0040]],\n",
       "       requires_grad=True)"
      ]
     },
     "execution_count": 25,
     "metadata": {},
     "output_type": "execute_result"
    }
   ],
   "source": [
    "print(model[0])\n",
    "model[0].weight"
   ]
  },
  {
   "cell_type": "markdown",
   "metadata": {},
   "source": [
    "You can also pass in an `OrderedDict` to name the individual layers and operations, instead of using incremental integers. Note that dictionary keys must be unique, so _each operation must have a different name_."
   ]
  },
  {
   "cell_type": "code",
   "execution_count": 26,
   "metadata": {},
   "outputs": [
    {
     "data": {
      "text/plain": [
       "Sequential(\n",
       "  (fc1): Linear(in_features=784, out_features=128, bias=True)\n",
       "  (relu1): ReLU()\n",
       "  (fc2): Linear(in_features=128, out_features=64, bias=True)\n",
       "  (relu2): ReLU()\n",
       "  (output): Linear(in_features=64, out_features=10, bias=True)\n",
       "  (softmax): Softmax()\n",
       ")"
      ]
     },
     "execution_count": 26,
     "metadata": {},
     "output_type": "execute_result"
    }
   ],
   "source": [
    "from collections import OrderedDict\n",
    "model = nn.Sequential(OrderedDict([\n",
    "                      ('fc1', nn.Linear(input_size, hidden_sizes[0])),\n",
    "                      ('relu1', nn.ReLU()),\n",
    "                      ('fc2', nn.Linear(hidden_sizes[0], hidden_sizes[1])),\n",
    "                      ('relu2', nn.ReLU()),\n",
    "                      ('output', nn.Linear(hidden_sizes[1], output_size)),\n",
    "                      ('softmax', nn.Softmax(dim=1))]))\n",
    "model"
   ]
  },
  {
   "cell_type": "markdown",
   "metadata": {},
   "source": [
    "Now you can access layers either by integer or the name"
   ]
  },
  {
   "cell_type": "code",
   "execution_count": 27,
   "metadata": {},
   "outputs": [
    {
     "name": "stdout",
     "output_type": "stream",
     "text": [
      "Linear(in_features=784, out_features=128, bias=True)\n",
      "Linear(in_features=784, out_features=128, bias=True)\n"
     ]
    }
   ],
   "source": [
    "print(model[0])\n",
    "print(model.fc1)"
   ]
  },
  {
   "cell_type": "markdown",
   "metadata": {},
   "source": [
    "In the next notebook, we'll see how we can train a neural network to accuractly predict the numbers appearing in the MNIST images."
   ]
  }
 ],
 "metadata": {
  "kernelspec": {
   "display_name": "Python 3",
   "language": "python",
   "name": "python3"
  },
  "language_info": {
   "codemirror_mode": {
    "name": "ipython",
    "version": 3
   },
   "file_extension": ".py",
   "mimetype": "text/x-python",
   "name": "python",
   "nbconvert_exporter": "python",
   "pygments_lexer": "ipython3",
   "version": "3.6.5"
  }
 },
 "nbformat": 4,
 "nbformat_minor": 2
}
